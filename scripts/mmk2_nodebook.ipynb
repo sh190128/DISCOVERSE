{
 "cells": [
  {
   "cell_type": "code",
   "execution_count": null,
   "metadata": {},
   "outputs": [],
   "source": [
    "import os\n",
    "import sys\n",
    "\n",
    "if sys.platform == 'linux':\n",
    "    os.environ['MUJOCO_GL'] = 'egl'\n",
    "    # os.environ['MUJOCO_GL'] = 'osmesa'\n",
    "elif sys.platform == 'darwin':\n",
    "    os.environ['MUJOCO_GL'] = 'glfw'\n",
    "\n",
    "import mujoco\n",
    "import mediapy\n",
    "import numpy as np\n",
    "import pinocchio as pin\n",
    "from scipy.spatial.transform import Rotation\n",
    "\n",
    "from discoverse import DISCOVERSE_ASSERT_DIR\n",
    "\n",
    "np.set_printoptions(precision=5, suppress=True, linewidth=500)"
   ]
  },
  {
   "cell_type": "code",
   "execution_count": null,
   "metadata": {},
   "outputs": [],
   "source": [
    "def get_site_tmat(mj_data, site_name):\n",
    "    tmat = np.eye(4)\n",
    "    tmat[:3,:3] = mj_data.site(site_name).xmat.reshape((3,3))\n",
    "    tmat[:3,3] = mj_data.site(site_name).xpos\n",
    "    return tmat\n",
    "\n",
    "def get_camera_tmat(mj_data, cam_name):\n",
    "    tmat = np.eye(4)\n",
    "    tmat[:3,:3] = mj_data.cam(cam_name).xmat.reshape(3,3)\n",
    "    tmat[:3,3] = mj_data.cam(cam_name).xpos\n",
    "    return tmat\n",
    "\n",
    "def get_body_tmat(mj_data, body_name):\n",
    "    tmat = np.eye(4)\n",
    "    tmat[:3,:3] = Rotation.from_quat(mj_data.body(body_name).xquat[[1,2,3,0]]).as_matrix()\n",
    "    tmat[:3,3] = mj_data.body(body_name).xpos\n",
    "    return tmat"
   ]
  },
  {
   "cell_type": "code",
   "execution_count": null,
   "metadata": {},
   "outputs": [],
   "source": [
    "mjcf_file_path = \"mjcf/exhibition_conference.xml\"\n",
    "mjcf_file = os.path.join(DISCOVERSE_ASSERT_DIR, mjcf_file_path)\n",
    "\n",
    "mj_model = mujoco.MjModel.from_xml_path(mjcf_file)\n",
    "mj_data = mujoco.MjData(mj_model)\n",
    "\n",
    "renderer = mujoco.Renderer(mj_model, 480, 640)\n",
    "\n",
    "options = mujoco.MjvOption()\n",
    "mujoco.mjv_defaultOption(options)\n",
    "options.flags[mujoco.mjtVisFlag.mjVIS_TRANSPARENT] = True\n",
    "# options.flags[mujoco.mjtVisFlag.mjVIS_CONTACTFORCE] = True\n",
    "options.flags[mujoco.mjtVisFlag.mjVIS_COM] = True\n",
    "# options.flags[mujoco.mjtVisFlag.mjVIS_PERTFORCE] = True\n",
    "# options.flags[mujoco.mjtVisFlag.mjVIS_PERTOBJ] = True\n",
    "# options.frame = mujoco.mjtFrame.mjFRAME_BODY.value\n",
    "options.frame = mujoco.mjtFrame.mjFRAME_SITE.value\n",
    "\n",
    "mj_data.qpos[:] = mj_model.key(\"carry\").qpos\n",
    "\n",
    "mujoco.mj_forward(mj_model, mj_data)\n",
    "\n",
    "renderer.update_scene(mj_data, -1, options)\n",
    "rgb = renderer.render()\n",
    "mediapy.show_image(rgb)"
   ]
  }
 ],
 "metadata": {
  "kernelspec": {
   "display_name": "renderer",
   "language": "python",
   "name": "python3"
  },
  "language_info": {
   "codemirror_mode": {
    "name": "ipython",
    "version": 3
   },
   "file_extension": ".py",
   "mimetype": "text/x-python",
   "name": "python",
   "nbconvert_exporter": "python",
   "pygments_lexer": "ipython3",
   "version": "3.8.0"
  }
 },
 "nbformat": 4,
 "nbformat_minor": 2
}
