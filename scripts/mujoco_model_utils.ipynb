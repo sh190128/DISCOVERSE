{
 "cells": [
  {
   "cell_type": "code",
   "execution_count": null,
   "metadata": {},
   "outputs": [],
   "source": [
    "import os\n",
    "import sys\n",
    "\n",
    "if sys.platform == 'linux':\n",
    "    os.environ['MUJOCO_GL'] = 'egl'\n",
    "    # os.environ['MUJOCO_GL'] = 'osmesa'\n",
    "elif sys.platform == 'darwin':\n",
    "    os.environ['MUJOCO_GL'] = 'glfw'\n",
    "\n",
    "import mujoco\n",
    "import numpy as np\n",
    "import mediapy as media\n",
    "import matplotlib.pyplot as plt\n",
    "\n",
    "from discoverse import DISCOVERSE_ASSERT_DIR\n",
    "\n",
    "np.set_printoptions(precision=3, suppress=True, linewidth=500)"
   ]
  },
  {
   "cell_type": "code",
   "execution_count": null,
   "metadata": {},
   "outputs": [],
   "source": [
    "mjcf_file_path = \"mjcf/il.xml\"\n",
    "mjcf_file_path = os.path.join(DISCOVERSE_ASSERT_DIR, mjcf_file_path)\n",
    "\n",
    "mj_model = mujoco.MjModel.from_xml_path(mjcf_file_path)\n",
    "mj_data = mujoco.MjData(mj_model)\n",
    "\n",
    "options = mujoco.MjvOption()\n",
    "mujoco.mjv_defaultOption(options)\n",
    "# options.flags[mujoco.mjtVisFlag.mjVIS_TRANSPARENT] = True\n",
    "# options.flags[mujoco.mjtVisFlag.mjVIS_CONTACTFORCE] = True\n",
    "# options.flags[mujoco.mjtVisFlag.mjVIS_COM] = True\n",
    "# options.flags[mujoco.mjtVisFlag.mjVIS_PERTFORCE] = True\n",
    "# options.flags[mujoco.mjtVisFlag.mjVIS_PERTOBJ] = True\n",
    "# options.frame = mujoco.mjtFrame.mjFRAME_BODY.value\n",
    "\n",
    "mujoco.mj_resetData(mj_model, mj_data)\n",
    "mujoco.mj_forward(mj_model, mj_data)\n",
    "\n",
    "renderer = mujoco.Renderer(mj_model, 480, 640)\n",
    "\n",
    "renderer.update_scene(mj_data, 1, options)\n",
    "media.show_image(renderer.render())"
   ]
  }
 ],
 "metadata": {
  "kernelspec": {
   "display_name": "renderer",
   "language": "python",
   "name": "python3"
  },
  "language_info": {
   "codemirror_mode": {
    "name": "ipython",
    "version": 3
   },
   "file_extension": ".py",
   "mimetype": "text/x-python",
   "name": "python",
   "nbconvert_exporter": "python",
   "pygments_lexer": "ipython3",
   "version": "3.8.0"
  }
 },
 "nbformat": 4,
 "nbformat_minor": 2
}
